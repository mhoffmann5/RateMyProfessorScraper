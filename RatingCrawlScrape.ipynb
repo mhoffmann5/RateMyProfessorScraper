{
 "cells": [
  {
   "cell_type": "code",
   "execution_count": 1,
   "metadata": {},
   "outputs": [],
   "source": [
    "import pandas as pd\n",
    "from selenium import webdriver\n",
    "from selenium.common.exceptions import NoSuchElementException\n",
    "from selenium.webdriver.common.by import By\n",
    "from selenium.webdriver.support.ui import WebDriverWait\n",
    "from selenium.webdriver.support import expected_conditions as EC\n",
    "import time\n",
    "import glob\n",
    "import pandas as pd\n",
    "\n",
    "NameCode_DF = pd.read_csv(\"requiredTeacherCodes.csv\")##file where all teacher codes are stored to build the url\n",
    "nameList = NameCode_DF[\"Name\"].tolist()\n",
    "codeNumber = NameCode_DF[\"Code\"].tolist()\n",
    "\n",
    "numCodes = len(codeNumber)\n",
    "\n",
    "for i in range(0,numCodes):\n",
    "    is_LoadMore = True\n",
    "    time.sleep(5)\n",
    "    url_builder = \"https://www.ratemyprofessors.com/ShowRatings.jsp?tid=\" + str(codeNumber[i]) ##url to search to\n",
    "\n",
    "\n",
    "    driver = webdriver.Safari()\n",
    "\n",
    "    driver.get(url=url_builder)\n",
    "    ##gives time to click out of the cookies button \n",
    "    time.sleep(5)\n",
    "    try:\n",
    "        loadMore = driver.find_element_by_css_selector(\"#loadMore\")\n",
    "        \n",
    "    except NoSuchElementException: ##in case that page has no load button\n",
    "        is_LoadMore = False\n",
    "        \n",
    "    if is_LoadMore:\n",
    "        while(loadMore.is_displayed()):\n",
    "            print(\"loadedMore\")\n",
    "            driver.execute_script(\"arguments[0].click()\",loadMore) ##javascript necessary here to handle overlay that becomes present \n",
    "            time.sleep(5)\n",
    "            loadMore = driver.find_element_by_css_selector(\"#loadMore\")\n",
    "\n",
    "\n",
    "\n",
    "    \n",
    "    all_elem = driver.find_elements_by_class_name(\"descriptor-container\") ##contains all rating information\n",
    "    class_elem = driver.find_elements_by_class_name(\"response\")##contains all class information\n",
    "    \n",
    "    classElem_list = []\n",
    "    allElem_list = []\n",
    "\n",
    "    for elements1 in all_elem:\n",
    "\n",
    "        allElem_list.append(elements1.text)##contains rating information\n",
    "\n",
    "    for elements in class_elem:\n",
    "\n",
    "        classElem_list.append(elements.text)\n",
    "\n",
    "\n",
    "    Overall_Quality = []\n",
    "    Level_of_Difficulty = []\n",
    "\n",
    "    for entireList in allElem_list:\n",
    "\n",
    "        each_element = entireList.replace('\\n','').strip().split(\" \",maxsplit =1) ##formating to get relevant infromation\n",
    "        rating_category = each_element[1].strip()\n",
    "        overall_rating = each_element[0]\n",
    "\n",
    "        if rating_category == \"Level of Difficulty\":\n",
    "            Level_of_Difficulty.append(overall_rating)\n",
    "\n",
    "        else:\n",
    "\n",
    "            Overall_Quality.append(overall_rating)\n",
    "\n",
    "    \n",
    "    ##data formatting to get relevant data\n",
    "    \n",
    "    classes = classElem_list[::6]\n",
    "    grades = classElem_list[5:]\n",
    "    grades = grades[::6]\n",
    "\n",
    "    DataFrame_toReturn = pd.DataFrame()\n",
    "    DataFrame_toReturn['Level of Difficulty'] = Level_of_Difficulty\n",
    "    DataFrame_toReturn['Overall Quality'] = Overall_Quality\n",
    "    DataFrame_toReturn['Course'] = classes\n",
    "    DataFrame_toReturn['Grade Received'] = grades\n",
    "    \n",
    "    ##DataFrame_toReturn.to_csv(\"teacherData/\" + nameList[i] + \".csv\",index=0)\n",
    "\n",
    "    driver.quit()\n",
    "    "
   ]
  },
  {
   "cell_type": "code",
   "execution_count": null,
   "metadata": {},
   "outputs": [],
   "source": [
    "\n"
   ]
  },
  {
   "cell_type": "code",
   "execution_count": 2,
   "metadata": {},
   "outputs": [],
   "source": [
    "import os\n",
    "\n",
    "path, dirs, files = next(os.walk(\"teacherData\"))\n"
   ]
  },
  {
   "cell_type": "code",
   "execution_count": 8,
   "metadata": {},
   "outputs": [],
   "source": [
    "\n",
    "dataFrameVertical = pd.DataFrame()\n",
    "# Print png images in folder C:\\Users\\admin\\\n",
    "for filepath in glob.iglob(\"teacherData/*.csv\"):\n",
    "    name = pd.read_csv(filepath)\n",
    "    teacherName = os.path.split(filepath)\n",
    "    distinctName = teacherName[1].split(\".\")[0]\n",
    "    name = name.assign(Instructor = distinctName)\n",
    "   \n",
    "    dataFrameVertical = pd.concat([dataFrameVertical, name], axis=0)\n",
    "    \n",
    "\n",
    "\n"
   ]
  },
  {
   "cell_type": "code",
   "execution_count": 10,
   "metadata": {},
   "outputs": [],
   "source": [
    "dataFrameVertical.to_csv(\"CombinedRMP_List.csv\")"
   ]
  },
  {
   "cell_type": "code",
   "execution_count": null,
   "metadata": {},
   "outputs": [],
   "source": []
  },
  {
   "cell_type": "code",
   "execution_count": null,
   "metadata": {},
   "outputs": [],
   "source": []
  }
 ],
 "metadata": {
  "kernelspec": {
   "display_name": "Python 3",
   "language": "python",
   "name": "python3"
  },
  "language_info": {
   "codemirror_mode": {
    "name": "ipython",
    "version": 3
   },
   "file_extension": ".py",
   "mimetype": "text/x-python",
   "name": "python",
   "nbconvert_exporter": "python",
   "pygments_lexer": "ipython3",
   "version": "3.7.3"
  }
 },
 "nbformat": 4,
 "nbformat_minor": 2
}
