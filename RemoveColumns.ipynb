{
 "cells": [
  {
   "cell_type": "code",
   "execution_count": 20,
   "metadata": {},
   "outputs": [],
   "source": [
    "import sqlite3\n",
    "import pandas as pd\n",
    "import csv\n",
    "\n",
    "coursesToExplore = pd.read_csv(\"FullCourseInfoList.csv\")\n",
    "\n",
    "dataFrameToReturn = coursesToExplore.drop(columns=[\"course_offering_uuid\",\"course_uuid\",\"section_uuid\",\"instructor_id\",\"section_type\"])\n",
    "dataFrameToReturn = dataFrameToReturn.rename(columns= {\"name\": \"Course Name\", \"number\": \"Section Number\", \"term_code\": \"Term Code\", \"instructor_name\": \"Instructor\", \"avg_gpa\": \"Average GPA\", \"grade_count\": \"Grade Count(A-F)\"})"
   ]
  },
  {
   "cell_type": "code",
   "execution_count": 22,
   "metadata": {},
   "outputs": [],
   "source": [
    "dataFrameToReturn.to_csv(\"SummarizedCourseInfoList.csv\", encoding = 'utf-8', index=False)"
   ]
  },
  {
   "cell_type": "code",
   "execution_count": 23,
   "metadata": {},
   "outputs": [],
   "source": [
    "dataFrameToReturn.to_excel(\"SummarizedCourseInfoList.xlsx\", sheet_name='Sheet_name_1')"
   ]
  },
  {
   "cell_type": "code",
   "execution_count": null,
   "metadata": {},
   "outputs": [],
   "source": []
  }
 ],
 "metadata": {
  "kernelspec": {
   "display_name": "Python 3",
   "language": "python",
   "name": "python3"
  },
  "language_info": {
   "codemirror_mode": {
    "name": "ipython",
    "version": 3
   },
   "file_extension": ".py",
   "mimetype": "text/x-python",
   "name": "python",
   "nbconvert_exporter": "python",
   "pygments_lexer": "ipython3",
   "version": "3.7.3"
  }
 },
 "nbformat": 4,
 "nbformat_minor": 2
}
